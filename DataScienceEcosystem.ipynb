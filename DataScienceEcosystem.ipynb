{
 "cells": [
  {
   "cell_type": "markdown",
   "id": "01639ea7-fced-4000-964b-1b0793413159",
   "metadata": {},
   "source": [
    "# Data Science Tools and Ecosystem"
   ]
  },
  {
   "attachments": {},
   "cell_type": "markdown",
   "id": "5699fcfa-06e2-4b0c-8d19-cc2ec450521e",
   "metadata": {},
   "source": [
    "In this notebook, Data Science Tools and Ecosystem are summarized."
   ]
  },
  {
   "cell_type": "markdown",
   "id": "aa0735b7-c099-4d9d-97b0-42116aa5d31e",
   "metadata": {},
   "source": [
    "**Objectives:**\n",
    "\n",
    "- Understand the basics of Python programming language.\n",
    "- Learn how to use Jupyter Notebook as a development environment.\n",
    "- Get familiar with popular languages and tools used in Data Science.\n",
    "- Practice simple arithmetic operations in Python.\n",
    "- Learn how to convert units, for example, minutes to hours."
   ]
  },
  {
   "cell_type": "markdown",
   "id": "a98b43cf-2437-487b-9322-ec632ba0ef51",
   "metadata": {},
   "source": [
    "## Author\n",
    "Tyrone Joel"
   ]
  },
  {
   "cell_type": "markdown",
   "id": "d616d5e3",
   "metadata": {},
   "source": []
  },
  {
   "cell_type": "markdown",
   "id": "8cbe5c61-62d2-4043-ac6d-5bc2b1c288cc",
   "metadata": {},
   "source": [
    "Some of the popular languages that Data Scientists use are:\n",
    "1. Python\n",
    "2. R\n",
    "3. Julia"
   ]
  },
  {
   "cell_type": "markdown",
   "id": "cedb3030-b959-4fda-b757-87a08a2379e9",
   "metadata": {},
   "source": [
    "Some of the commonly used libraries used by Data Scientists include:\n",
    "1. Pandas\n",
    "2. NumPy\n",
    "3. Scikit-learn"
   ]
  },
  {
   "cell_type": "markdown",
   "id": "5bcce4d4-ada5-4619-8198-ac7038fdd7d3",
   "metadata": {},
   "source": [
    "| Data Science Tools |\n",
    "| --- |\n",
    "| Jupyter Notebook |\n",
    "| RStudio |\n",
    "| Spyder |   |   |   |arm "
   ]
  },
  {
   "cell_type": "markdown",
   "id": "5fdaaecc-139a-4e81-b7f3-c3f34e09134a",
   "metadata": {},
   "source": [
    "### Below are a few examples of evaluating arithmetic expressions in Python\n",
    "\n",
    "1. Addition: `3 + 2` evaluates to `5`\n",
    "2. Subtraction: `3 - 2` evaluates to `1`\n",
    "3. Multiplication: `3 * 2` evaluates to `6`\n",
    "4. Division: `3 / 2` evaluates to `1.5`"
   ]
  },
  {
   "cell_type": "code",
   "execution_count": 3,
   "id": "5532962d-d238-4999-bbe0-fe9501570ac0",
   "metadata": {},
   "outputs": [
    {
     "name": "stdout",
     "output_type": "stream",
     "text": [
      "17\n"
     ]
    }
   ],
   "source": [
    "# This is a simple arithmetic expression to multiply then add integers\n",
    "result = (3 * 4) + 5\n",
    "print(result)"
   ]
  },
  {
   "cell_type": "code",
   "execution_count": 4,
   "id": "a2d750b1-3e98-4b78-8278-540273f502d0",
   "metadata": {},
   "outputs": [
    {
     "name": "stdout",
     "output_type": "stream",
     "text": [
      "3.3333333333333335\n"
     ]
    }
   ],
   "source": [
    "# This will convert 200 minutes to hours by dividing by 60\n",
    "hours = 200 / 60\n",
    "print(hours)"
   ]
  },
  {
   "cell_type": "code",
   "execution_count": null,
   "id": "0ff6f3bd-66ac-4e2f-abf5-13055ff9e361",
   "metadata": {},
   "outputs": [],
   "source": []
  }
 ],
 "metadata": {
  "kernelspec": {
   "display_name": "Python 3 (ipykernel)",
   "language": "python",
   "name": "python3"
  },
  "language_info": {
   "codemirror_mode": {
    "name": "ipython",
    "version": 3
   },
   "file_extension": ".py",
   "mimetype": "text/x-python",
   "name": "python",
   "nbconvert_exporter": "python",
   "pygments_lexer": "ipython3",
   "version": "3.11.2"
  }
 },
 "nbformat": 4,
 "nbformat_minor": 5
}
